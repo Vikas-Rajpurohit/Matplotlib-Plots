{
 "cells": [
  {
   "cell_type": "code",
   "execution_count": 14,
   "id": "e8e7a197",
   "metadata": {},
   "outputs": [],
   "source": [
    "import numpy as np\n",
    "import matplotlib.pyplot as plt"
   ]
  },
  {
   "cell_type": "code",
   "execution_count": 15,
   "id": "61e6ad11",
   "metadata": {},
   "outputs": [],
   "source": [
    "x = np.random.randint(10,50,(30))"
   ]
  },
  {
   "cell_type": "code",
   "execution_count": 16,
   "id": "afcc9618",
   "metadata": {},
   "outputs": [
    {
     "name": "stdout",
     "output_type": "stream",
     "text": [
      "[33 40 31 25 38 23 26 41 49 13 35 41 30 22 26 26 28 24 43 19 10 49 21 18\n",
      " 40 28 20 22 13 32]\n"
     ]
    }
   ],
   "source": [
    "print(x)"
   ]
  },
  {
   "cell_type": "code",
   "execution_count": 60,
   "id": "3aa8ad83",
   "metadata": {},
   "outputs": [
    {
     "data": {
      "image/png": "[encoded data removed]",
      "text/plain": [
       "<Figure size 432x288 with 1 Axes>"
      ]
     },
     "metadata": {
      "needs_background": "light"
     },
     "output_type": "display_data"
    }
   ],
   "source": [
    "x = [33, 40, 31, 25, 38, 23, 26, 41, 49, 13, 35, 41, 30, 22, 26, 26, 28, 24, 43, 19, 10, 49, 21, 18,\n",
    " 40, 28, 20, 22, 13, 32]\n",
    "\n",
    "l = [10,15,25,30,35,45,50]\n",
    "plt.hist(x, color='skyblue', bins=l, edgecolor='blue',  rwidth=0.7)\n",
    "\n",
    "plt.title('Histogram', fontsize=15)\n",
    "plt.xlabel('Frequency')\n",
    "plt.ylabel('No. of Data')\n",
    "plt.show()"
   ]
  },
  {
   "cell_type": "code",
   "execution_count": 53,
   "id": "0841ecfe",
   "metadata": {},
   "outputs": [
    {
     "name": "stdout",
     "output_type": "stream",
     "text": [
      "7\n"
     ]
    }
   ],
   "source": [
    "cnt = 0\n",
    "for i in x:\n",
    "    if(i>=25 and i<=30):\n",
    "        cnt +=1\n",
    "print(cnt)"
   ]
  },
  {
   "cell_type": "code",
   "execution_count": 65,
   "id": "53177100",
   "metadata": {},
   "outputs": [
    {
     "data": {
      "image/png": "[encoded data removed]",
      "text/plain": [
       "<Figure size 432x288 with 1 Axes>"
      ]
     },
     "metadata": {
      "needs_background": "light"
     },
     "output_type": "display_data"
    }
   ],
   "source": [
    "x = [33, 40, 31, 25, 38, 23, 26, 41, 49, 13, 35, 41, 30, 22, 26, 26, 28, 24, 43, 19, 10, 49, 21, 18,\n",
    " 40, 28, 20, 22, 13, 32]\n",
    "\n",
    "l = [10,15,25,30,35,45,50]\n",
    "# color parrameter doesn't work here\n",
    "plt.hist(x,'auto',(0,100), edgecolor='blue',histtype='step')\n",
    "\n",
    "plt.axvline(28, color='g', label='line')\n",
    "\n",
    "plt.title('Histogram', fontsize=15)\n",
    "plt.xlabel('Frequency')\n",
    "plt.ylabel('No. of Data')\n",
    "\n",
    "plt.legend()\n",
    "plt.show()"
   ]
  },
  {
   "cell_type": "code",
   "execution_count": null,
   "id": "d310be2a",
   "metadata": {},
   "outputs": [],
   "source": []
  }
 ],
 "metadata": {
  "kernelspec": {
   "display_name": "Python 3 (ipykernel)",
   "language": "python",
   "name": "python3"
  },
  "language_info": {
   "codemirror_mode": {
    "name": "ipython",
    "version": 3
   },
   "file_extension": ".py",
   "mimetype": "text/x-python",
   "name": "python",
   "nbconvert_exporter": "python",
   "pygments_lexer": "ipython3",
   "version": "3.10.4"
  }
 },
 "nbformat": 4,
 "nbformat_minor": 5
}
